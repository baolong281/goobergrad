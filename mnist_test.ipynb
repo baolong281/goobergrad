{
 "cells": [
  {
   "cell_type": "code",
   "execution_count": 1,
   "id": "0aa844f1",
   "metadata": {
    "tags": []
   },
   "outputs": [],
   "source": [
    "from goobergrad import nn\n",
    "from goobergrad import eval\n",
    "from goobergrad.nn import Value\n",
    "import numpy as np\n",
    "import matplotlib.pyplot as plt\n",
    "import mnist"
   ]
  },
  {
   "cell_type": "markdown",
   "id": "4adee391",
   "metadata": {},
   "source": [
    "# data processing\n"
   ]
  },
  {
   "cell_type": "code",
   "execution_count": 2,
   "id": "60ba3e36",
   "metadata": {
    "tags": []
   },
   "outputs": [],
   "source": [
    "train_images = mnist.train_images()\n",
    "train_labels = mnist.train_labels()\n",
    "test_images = mnist.test_images()\n",
    "test_labels = mnist.test_labels()"
   ]
  },
  {
   "cell_type": "code",
   "execution_count": 3,
   "id": "6ca0b658",
   "metadata": {
    "tags": []
   },
   "outputs": [],
   "source": [
    "#normalized between 0-1\n",
    "train_images = train_images / 255\n",
    "test_images = test_images / 255"
   ]
  },
  {
   "cell_type": "code",
   "execution_count": 4,
   "id": "6368db69",
   "metadata": {
    "tags": []
   },
   "outputs": [
    {
     "name": "stdout",
     "output_type": "stream",
     "text": [
      "5\n"
     ]
    },
    {
     "data": {
      "image/png": "[encoded data removed]",
      "text/plain": [
       "<Figure size 640x480 with 1 Axes>"
      ]
     },
     "metadata": {},
     "output_type": "display_data"
    }
   ],
   "source": [
    "plt.imshow(train_images[0], cmap='gray')\n",
    "print(train_labels[0])"
   ]
  },
  {
   "cell_type": "code",
   "execution_count": 5,
   "id": "1bfa47ad",
   "metadata": {
    "tags": []
   },
   "outputs": [],
   "source": [
    "train_images = train_images.reshape(-1, 28 * 28)\n",
    "test_images = test_images.reshape(-1, 28 * 28)\n"
   ]
  },
  {
   "cell_type": "code",
   "execution_count": 6,
   "id": "91791417",
   "metadata": {
    "tags": []
   },
   "outputs": [],
   "source": [
    "b = np.zeros((train_labels.size, train_labels.max()+1))\n",
    "b[np.arange(train_labels.size), train_labels] = 1\n",
    "train_labels = b"
   ]
  },
  {
   "cell_type": "code",
   "execution_count": 7,
   "id": "803f2b23-8cc3-4d0a-a529-5a1676f61215",
   "metadata": {
    "tags": []
   },
   "outputs": [
    {
     "data": {
      "text/plain": [
       "array([[0., 0., 0., ..., 0., 0., 0.],\n",
       "       [1., 0., 0., ..., 0., 0., 0.],\n",
       "       [0., 0., 0., ..., 0., 0., 0.],\n",
       "       ...,\n",
       "       [0., 0., 0., ..., 0., 0., 0.],\n",
       "       [0., 0., 0., ..., 0., 0., 0.],\n",
       "       [0., 0., 0., ..., 0., 1., 0.]])"
      ]
     },
     "execution_count": 7,
     "metadata": {},
     "output_type": "execute_result"
    }
   ],
   "source": [
    "train_labels"
   ]
  },
  {
   "cell_type": "markdown",
   "id": "2f0ca787",
   "metadata": {},
   "source": [
    "# model definition"
   ]
  },
  {
   "cell_type": "code",
   "execution_count": 21,
   "id": "448d0899-36de-4ebd-9684-136cbe84c35e",
   "metadata": {
    "tags": []
   },
   "outputs": [],
   "source": [
    "model = nn.MLP([784, 50, 50, 10])\n",
    "\n",
    "ypred = model(train_images[0])\n",
    "ypred = nn.softmax(ypred)\n"
   ]
  },
  {
   "cell_type": "markdown",
   "id": "567b8db9",
   "metadata": {},
   "source": [
    "# training\n"
   ]
  },
  {
   "cell_type": "code",
   "execution_count": 22,
   "id": "2c64d4c3-eb54-4353-b6a5-7920ca627803",
   "metadata": {
    "tags": []
   },
   "outputs": [],
   "source": [
    "import random"
   ]
  },
  {
   "cell_type": "code",
   "execution_count": 23,
   "id": "57e67295-0db5-4686-8fbf-f4a14a9fd428",
   "metadata": {
    "tags": []
   },
   "outputs": [],
   "source": [
    "def random_batch(images, labels, batch_size):\n",
    "    indexes = [random.randint(0, labels.shape[0]-1) for _ in range(batch_size)]\n",
    "    for i in indexes:\n",
    "        yield (images[i], labels[i])\n"
   ]
  },
  {
   "cell_type": "code",
   "execution_count": 24,
   "id": "8f8a4587-85e3-44f9-bf15-691b4df32473",
   "metadata": {
    "tags": []
   },
   "outputs": [
    {
     "name": "stdout",
     "output_type": "stream",
     "text": [
      "EPOCH: 1\n",
      "['0.0952', '0.0882', '0.1012', '0.1063', '0.0871', '0.1472', '0.0818', '0.1038', '0.0751', '0.1141']\n",
      "actual: 4 prediction 5\n",
      "['0.1058', '0.0927', '0.1018', '0.1112', '0.0883', '0.1397', '0.0864', '0.0964', '0.0778', '0.0998']\n",
      "actual: 7 prediction 5\n",
      "['0.0899', '0.0861', '0.1037', '0.1055', '0.0834', '0.1618', '0.0798', '0.1090', '0.0628', '0.1179']\n",
      "actual: 5 prediction 5\n",
      "['0.0847', '0.0900', '0.1178', '0.0965', '0.0751', '0.1494', '0.0890', '0.1033', '0.0761', '0.1182']\n",
      "actual: 8 prediction 5\n",
      "['0.0983', '0.0987', '0.1067', '0.0950', '0.0859', '0.1348', '0.0760', '0.1019', '0.0826', '0.1201']\n",
      "actual: 2 prediction 5\n",
      "-1.2\n",
      "-1.2\n",
      "-1.2\n",
      "-1.2\n",
      "-1.2\n",
      "-1.2\n",
      "-1.2\n",
      "-1.2\n",
      "-1.2\n",
      "-1.2\n",
      "loss: Value(11.41501751979802)\n",
      "['0.0580', '0.0709', '0.1275', '0.0467', '0.0467', '0.2361', '0.0605', '0.0954', '0.0496', '0.2085']\n",
      "actual: 7 prediction 5\n",
      "['0.0584', '0.0691', '0.1219', '0.0389', '0.0466', '0.2769', '0.0571', '0.0909', '0.0448', '0.1955']\n",
      "actual: 0 prediction 5\n",
      "['0.0549', '0.0733', '0.1352', '0.0496', '0.0443', '0.2254', '0.0630', '0.0957', '0.0545', '0.2041']\n",
      "actual: 7 prediction 5\n",
      "['0.0356', '0.0583', '0.1845', '0.0263', '0.0230', '0.2950', '0.0559', '0.0831', '0.0427', '0.1956']\n",
      "actual: 8 prediction 5\n",
      "['0.0631', '0.0822', '0.1325', '0.0572', '0.0545', '0.2153', '0.0665', '0.0965', '0.0560', '0.1763']\n",
      "actual: 7 prediction 5\n",
      "-1.2\n",
      "-1.2\n",
      "-1.2\n",
      "-1.2\n",
      "-1.2\n",
      "-1.2\n",
      "-1.2\n",
      "-1.2\n",
      "-1.2\n",
      "-1.2\n",
      "loss: Value(13.03017144135417)\n",
      "['0.0001', '0.0006', '0.0067', '0.0003', '0.0001', '0.9422', '0.0005', '0.0128', '0.0001', '0.0367']\n",
      "actual: 5 prediction 5\n",
      "['0.0000', '0.0000', '0.0000', '0.0000', '0.0000', '0.9998', '0.0000', '0.0000', '0.0000', '0.0002']\n",
      "actual: 5 prediction 5\n",
      "['0.0000', '0.0000', '0.0000', '0.0000', '0.0000', '0.9998', '0.0000', '0.0000', '0.0000', '0.0002']\n",
      "actual: 2 prediction 5\n",
      "['0.0000', '0.0000', '0.0002', '0.0000', '0.0000', '0.9954', '0.0000', '0.0004', '0.0000', '0.0041']\n",
      "actual: 3 prediction 5\n",
      "['0.0000', '0.0000', '0.0005', '0.0000', '0.0000', '0.9903', '0.0000', '0.0013', '0.0000', '0.0078']\n",
      "actual: 6 prediction 5\n",
      "-1.2\n",
      "-1.2\n",
      "-1.2\n",
      "-1.2\n",
      "-1.2\n",
      "-1.009758215884071\n",
      "-1.2\n",
      "-1.2\n",
      "-1.2\n",
      "-1.2\n",
      "loss: Value(40.36765196276957)\n",
      "['0.0000', '0.0000', '0.0000', '0.0000', '0.0000', '1.0000', '0.0000', '0.0000', '0.0000', '0.0000']\n",
      "actual: 4 prediction 5\n",
      "['0.0000', '0.0000', '0.0000', '0.0000', '0.0000', '1.0000', '0.0000', '0.0000', '0.0000', '0.0000']\n",
      "actual: 1 prediction 5\n",
      "['0.0000', '0.0000', '0.0000', '0.0000', '0.0000', '1.0000', '0.0000', '0.0000', '0.0000', '0.0000']\n",
      "actual: 5 prediction 5\n",
      "['0.0000', '0.0000', '0.0000', '0.0000', '0.0000', '1.0000', '0.0000', '0.0000', '0.0000', '0.0000']\n",
      "actual: 0 prediction 5\n",
      "['0.0000', '0.0000', '0.0000', '0.0000', '0.0000', '1.0000', '0.0000', '0.0000', '0.0000', '0.0000']\n",
      "actual: 2 prediction 5\n",
      "-1.2\n",
      "-1.2\n",
      "-1.2\n",
      "-1.2\n",
      "-1.2\n",
      "-1.0\n",
      "-1.2\n",
      "-1.2\n",
      "-1.2\n",
      "-1.2\n",
      "loss: Value(363.0793868776748)\n",
      "['0.0000', '0.0000', '0.0000', '0.0000', '0.0000', '1.0000', '0.0000', '0.0000', '0.0000', '0.0000']\n",
      "actual: 6 prediction 5\n",
      "['0.0000', '0.0000', '0.0000', '0.0000', '0.0000', '1.0000', '0.0000', '0.0000', '0.0000', '0.0000']\n",
      "actual: 5 prediction 5\n",
      "['0.0000', '0.0000', '0.0000', '0.0000', '0.0000', '1.0000', '0.0000', '0.0000', '0.0000', '0.0000']\n",
      "actual: 9 prediction 5\n",
      "['0.0000', '0.0000', '0.0000', '0.0000', '0.0000', '1.0000', '0.0000', '0.0000', '0.0000', '0.0000']\n",
      "actual: 2 prediction 5\n",
      "['0.0000', '0.0000', '0.0000', '0.0000', '0.0000', '1.0000', '0.0000', '0.0000', '0.0000', '0.0000']\n",
      "actual: 6 prediction 5\n",
      "-1.2\n",
      "-1.2\n",
      "-1.2\n",
      "-1.2\n",
      "-1.2\n",
      "-1.0\n",
      "-1.2\n",
      "-1.2\n",
      "-1.2\n",
      "-1.2\n",
      "loss: Value(1336.9303936919641)\n"
     ]
    },
    {
     "ename": "ValueError",
     "evalue": "math domain error",
     "output_type": "error",
     "traceback": [
      "\u001b[0;31m---------------------------------------------------------------------------\u001b[0m",
      "\u001b[0;31mValueError\u001b[0m                                Traceback (most recent call last)",
      "Cell \u001b[0;32mIn[24], line 16\u001b[0m\n\u001b[1;32m     14\u001b[0m ypred \u001b[38;5;241m=\u001b[39m model(image)\n\u001b[1;32m     15\u001b[0m ypred \u001b[38;5;241m=\u001b[39m nn\u001b[38;5;241m.\u001b[39msoftmax(ypred)\n\u001b[0;32m---> 16\u001b[0m loss \u001b[38;5;241m+\u001b[39m\u001b[38;5;241m=\u001b[39m \u001b[38;5;28;43meval\u001b[39;49m\u001b[38;5;241;43m.\u001b[39;49m\u001b[43mCrossEntropy\u001b[49m\u001b[43m(\u001b[49m\u001b[43mypred\u001b[49m\u001b[43m,\u001b[49m\u001b[43m \u001b[49m\u001b[43mlabel\u001b[49m\u001b[43m)\u001b[49m\n\u001b[1;32m     17\u001b[0m \u001b[38;5;28mprint\u001b[39m([\u001b[38;5;124m\"\u001b[39m\u001b[38;5;132;01m%.4f\u001b[39;00m\u001b[38;5;124m\"\u001b[39m \u001b[38;5;241m%\u001b[39m num \u001b[38;5;28;01mfor\u001b[39;00m num \u001b[38;5;129;01min\u001b[39;00m [yp\u001b[38;5;241m.\u001b[39mdata \u001b[38;5;28;01mfor\u001b[39;00m yp \u001b[38;5;129;01min\u001b[39;00m ypred]])\n\u001b[1;32m     18\u001b[0m \u001b[38;5;28mprint\u001b[39m(\u001b[38;5;124mf\u001b[39m\u001b[38;5;124m'\u001b[39m\u001b[38;5;124mactual: \u001b[39m\u001b[38;5;132;01m{\u001b[39;00mnp\u001b[38;5;241m.\u001b[39margmax(np\u001b[38;5;241m.\u001b[39marray(label),\u001b[38;5;250m \u001b[39maxis\u001b[38;5;241m=\u001b[39m\u001b[38;5;241m0\u001b[39m)\u001b[38;5;132;01m}\u001b[39;00m\u001b[38;5;124m prediction \u001b[39m\u001b[38;5;132;01m{\u001b[39;00mnp\u001b[38;5;241m.\u001b[39margmax(ypred,\u001b[38;5;250m \u001b[39maxis\u001b[38;5;241m=\u001b[39m\u001b[38;5;241m0\u001b[39m)\u001b[38;5;132;01m}\u001b[39;00m\u001b[38;5;124m'\u001b[39m)\n",
      "File \u001b[0;32m~/Projects/goobergrad/goobergrad/eval.py:9\u001b[0m, in \u001b[0;36mCrossEntropy\u001b[0;34m(ypred, ytrue)\u001b[0m\n\u001b[1;32m      7\u001b[0m \u001b[38;5;28;01mdef\u001b[39;00m \u001b[38;5;21mCrossEntropy\u001b[39m(ypred, ytrue):\n\u001b[0;32m----> 9\u001b[0m \tx \u001b[38;5;241m=\u001b[39m \u001b[38;5;241m-\u001b[39m\u001b[38;5;28msum\u001b[39m((yt \u001b[38;5;241m*\u001b[39m math\u001b[38;5;241m.\u001b[39mlog(yp\u001b[38;5;241m.\u001b[39mdata) \u001b[38;5;28;01mfor\u001b[39;00m yp, yt \u001b[38;5;129;01min\u001b[39;00m \u001b[38;5;28mzip\u001b[39m(ypred, ytrue)))\n\u001b[1;32m     10\u001b[0m \tresult \u001b[38;5;241m=\u001b[39m Value(x, (ypred), _op\u001b[38;5;241m=\u001b[39m\u001b[38;5;124m'\u001b[39m\u001b[38;5;124mCrossEntropy\u001b[39m\u001b[38;5;124m'\u001b[39m)\n\u001b[1;32m     12\u001b[0m \t\u001b[38;5;28;01mdef\u001b[39;00m \u001b[38;5;21m_backward\u001b[39m():\n",
      "File \u001b[0;32m~/Projects/goobergrad/goobergrad/eval.py:9\u001b[0m, in \u001b[0;36m<genexpr>\u001b[0;34m(.0)\u001b[0m\n\u001b[1;32m      7\u001b[0m \u001b[38;5;28;01mdef\u001b[39;00m \u001b[38;5;21mCrossEntropy\u001b[39m(ypred, ytrue):\n\u001b[0;32m----> 9\u001b[0m \tx \u001b[38;5;241m=\u001b[39m \u001b[38;5;241m-\u001b[39m\u001b[38;5;28msum\u001b[39m((yt \u001b[38;5;241m*\u001b[39m \u001b[43mmath\u001b[49m\u001b[38;5;241;43m.\u001b[39;49m\u001b[43mlog\u001b[49m\u001b[43m(\u001b[49m\u001b[43myp\u001b[49m\u001b[38;5;241;43m.\u001b[39;49m\u001b[43mdata\u001b[49m\u001b[43m)\u001b[49m \u001b[38;5;28;01mfor\u001b[39;00m yp, yt \u001b[38;5;129;01min\u001b[39;00m \u001b[38;5;28mzip\u001b[39m(ypred, ytrue)))\n\u001b[1;32m     10\u001b[0m \tresult \u001b[38;5;241m=\u001b[39m Value(x, (ypred), _op\u001b[38;5;241m=\u001b[39m\u001b[38;5;124m'\u001b[39m\u001b[38;5;124mCrossEntropy\u001b[39m\u001b[38;5;124m'\u001b[39m)\n\u001b[1;32m     12\u001b[0m \t\u001b[38;5;28;01mdef\u001b[39;00m \u001b[38;5;21m_backward\u001b[39m():\n",
      "\u001b[0;31mValueError\u001b[0m: math domain error"
     ]
    }
   ],
   "source": [
    "def get_grad(val):\n",
    "    return val.grad\n",
    "\n",
    "for epoch in range(1):\n",
    "    print(f'EPOCH: {epoch+1}')\n",
    "    for i in range(50):\n",
    "        \n",
    "        loss = Value(0.0)\n",
    "        max_grad = []\n",
    "        ypred = []\n",
    "        \n",
    "        for image, label in random_batch(train_images, train_labels, 5):\n",
    "           \n",
    "            ypred = model(image)\n",
    "            ypred = nn.softmax(ypred)\n",
    "            loss += eval.CrossEntropy(ypred, label)\n",
    "            print([\"%.4f\" % num for num in [yp.data for yp in ypred]])\n",
    "            print(f'actual: {np.argmax(np.array(label), axis=0)} prediction {np.argmax(ypred, axis=0)}')\n",
    "            \n",
    "            \n",
    "        \n",
    "        model.zero_grad()\n",
    "        loss.backward(1.2)\n",
    "        model.step(.05, True)\n",
    "        for x in ypred:\n",
    "            print(x.grad)\n",
    "        print(f'loss: {loss}')\n",
    "\n",
    "        \n",
    "        "
   ]
  },
  {
   "cell_type": "markdown",
   "id": "d9fa2c29-e709-4a4b-be8e-023fd751bd7f",
   "metadata": {
    "tags": []
   },
   "source": [
    "for image, label in random_batch(train_images, train_labels, 150):\n",
    "    model.zero_grad()\n",
    "            \n",
    "    ypred = model(image)\n",
    "    ypred = nn.softmax(ypred)\n",
    "    loss = eval.CrossEntropy(ypred, label)\n",
    "    before = loss.data\n",
    "    \n",
    "    loss.backward()\n",
    "    model.step(.05)\n",
    "    for y in ypred:\n",
    "        print(y.grad)\n",
    "    print(f'ypred{ypred}\\n loss {loss}')\n",
    "    "
   ]
  }
 ],
 "metadata": {
  "kernelspec": {
   "display_name": "Python 3 (ipykernel)",
   "language": "python",
   "name": "python3"
  },
  "language_info": {
   "codemirror_mode": {
    "name": "ipython",
    "version": 3
   },
   "file_extension": ".py",
   "mimetype": "text/x-python",
   "name": "python",
   "nbconvert_exporter": "python",
   "pygments_lexer": "ipython3",
   "version": "3.11.2"
  }
 },
 "nbformat": 4,
 "nbformat_minor": 5
}

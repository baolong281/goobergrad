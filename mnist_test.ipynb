{
 "cells": [
  {
   "cell_type": "code",
   "execution_count": 1,
   "id": "0aa844f1",
   "metadata": {
    "tags": []
   },
   "outputs": [],
   "source": [
    "from goobergrad import nn\n",
    "from goobergrad import eval\n",
    "from goobergrad.nn import Value\n",
    "import numpy as np\n",
    "import matplotlib.pyplot as plt\n",
    "import mnist"
   ]
  },
  {
   "cell_type": "markdown",
   "id": "4adee391",
   "metadata": {},
   "source": [
    "# data processing\n"
   ]
  },
  {
   "cell_type": "code",
   "execution_count": 2,
   "id": "60ba3e36",
   "metadata": {
    "tags": []
   },
   "outputs": [],
   "source": [
    "train_images = mnist.train_images()\n",
    "train_labels = mnist.train_labels()\n",
    "test_images = mnist.test_images()\n",
    "test_labels = mnist.test_labels()"
   ]
  },
  {
   "cell_type": "code",
   "execution_count": 3,
   "id": "6ca0b658",
   "metadata": {
    "tags": []
   },
   "outputs": [],
   "source": [
    "#normalized between 0-1\n",
    "train_images = train_images / 255\n",
    "test_images = test_images / 255"
   ]
  },
  {
   "cell_type": "code",
   "execution_count": 4,
   "id": "6368db69",
   "metadata": {
    "tags": []
   },
   "outputs": [
    {
     "name": "stdout",
     "output_type": "stream",
     "text": [
      "5\n"
     ]
    },
    {
     "data": {
      "image/png": "[encoded data removed]",
      "text/plain": [
       "<Figure size 640x480 with 1 Axes>"
      ]
     },
     "metadata": {},
     "output_type": "display_data"
    }
   ],
   "source": [
    "plt.imshow(train_images[0], cmap='gray')\n",
    "print(train_labels[0])"
   ]
  },
  {
   "cell_type": "code",
   "execution_count": 5,
   "id": "1bfa47ad",
   "metadata": {
    "tags": []
   },
   "outputs": [],
   "source": [
    "train_images = train_images.reshape(-1, 28 * 28)\n",
    "test_images = test_images.reshape(-1, 28 * 28)\n"
   ]
  },
  {
   "cell_type": "code",
   "execution_count": 6,
   "id": "91791417",
   "metadata": {
    "tags": []
   },
   "outputs": [],
   "source": [
    "b = np.zeros((train_labels.size, train_labels.max()+1))\n",
    "b[np.arange(train_labels.size), train_labels] = 1\n",
    "train_labels = b"
   ]
  },
  {
   "cell_type": "code",
   "execution_count": 7,
   "id": "803f2b23-8cc3-4d0a-a529-5a1676f61215",
   "metadata": {
    "tags": []
   },
   "outputs": [
    {
     "data": {
      "text/plain": [
       "array([[0., 0., 0., ..., 0., 0., 0.],\n",
       "       [1., 0., 0., ..., 0., 0., 0.],\n",
       "       [0., 0., 0., ..., 0., 0., 0.],\n",
       "       ...,\n",
       "       [0., 0., 0., ..., 0., 0., 0.],\n",
       "       [0., 0., 0., ..., 0., 0., 0.],\n",
       "       [0., 0., 0., ..., 0., 1., 0.]])"
      ]
     },
     "execution_count": 7,
     "metadata": {},
     "output_type": "execute_result"
    }
   ],
   "source": [
    "train_labels"
   ]
  },
  {
   "cell_type": "markdown",
   "id": "2f0ca787",
   "metadata": {},
   "source": [
    "# model definition"
   ]
  },
  {
   "cell_type": "code",
   "execution_count": 18,
   "id": "448d0899-36de-4ebd-9684-136cbe84c35e",
   "metadata": {
    "tags": []
   },
   "outputs": [],
   "source": [
    "model = nn.MLP([784, 100, 100, 10])\n",
    "\n",
    "ypred = model(train_images[0])\n",
    "ypred = nn.softmax(ypred)\n"
   ]
  },
  {
   "cell_type": "markdown",
   "id": "567b8db9",
   "metadata": {},
   "source": [
    "# training\n"
   ]
  },
  {
   "cell_type": "code",
   "execution_count": 9,
   "id": "2c64d4c3-eb54-4353-b6a5-7920ca627803",
   "metadata": {
    "tags": []
   },
   "outputs": [],
   "source": [
    "import random"
   ]
  },
  {
   "cell_type": "code",
   "execution_count": 10,
   "id": "57e67295-0db5-4686-8fbf-f4a14a9fd428",
   "metadata": {
    "tags": []
   },
   "outputs": [],
   "source": [
    "def random_batch(images, labels, batch_size):\n",
    "    indexes = [random.randint(0, labels.shape[0]-1) for _ in range(batch_size)]\n",
    "    for i in indexes:\n",
    "        yield (images[i], labels[i])\n"
   ]
  },
  {
   "cell_type": "raw",
   "id": "649f2912-7e69-4351-a36e-6cead215730b",
   "metadata": {},
   "source": [
    "for epoch in range(1):\n",
    "    print(f'EPOCH: {epoch+1}')\n",
    "    for i in range(50):\n",
    "        for image, label in random_batch(train_images, train_labels, 5):\n",
    "            \n",
    "            ypred = model(image)\n",
    "            ypred = nn.softmax(ypred)\n",
    "            loss = eval.CrossEntropy(ypred, label)\n",
    "            \n",
    "\n",
    "        \n",
    "        "
   ]
  },
  {
   "cell_type": "code",
   "execution_count": null,
   "id": "e3379dda-8aeb-4a4a-a898-084f4b82b48b",
   "metadata": {
    "tags": []
   },
   "outputs": [
    {
     "name": "stdout",
     "output_type": "stream",
     "text": [
      "0.0\n",
      "0.0\n",
      "0.0\n",
      "0.0\n",
      "0.0\n",
      "0.0\n",
      "0.0\n",
      "0.0\n",
      "-8.914763691922277\n",
      "0.0\n",
      "ypred[Value(0.10536867786739859), Value(0.1154799595739565), Value(0.09125005760173785), Value(0.10252402120289451), Value(0.09967422849352243), Value(0.08834903028219684), Value(0.09664300151549479), Value(0.08980351992741219), Value(0.11217347251796549), Value(0.09873403101742079)]\n",
      " loss Value(2.187708744168759)\n",
      "0.0\n",
      "0.0\n",
      "0.0\n",
      "0.0\n",
      "0.0\n",
      "0.0\n",
      "0.0\n",
      "-9.717145826475871\n",
      "0.0\n",
      "0.0\n",
      "ypred[Value(0.11017405644029009), Value(0.11907138156700663), Value(0.08541620923646463), Value(0.09367927778856061), Value(0.09900838913150578), Value(0.08913797979714985), Value(0.08871324670820643), Value(0.10291087710913474), Value(0.12558705217246965), Value(0.08630153004921165)]\n",
      " loss Value(2.2738919361004477)\n",
      "0.0\n",
      "0.0\n",
      "-10.650601153832655\n",
      "0.0\n",
      "0.0\n",
      "0.0\n",
      "0.0\n",
      "0.0\n",
      "0.0\n",
      "0.0\n",
      "ypred[Value(0.11038660867456339), Value(0.10653665063250142), Value(0.09389141378561028), Value(0.10031539614047998), Value(0.09500502010608741), Value(0.09015821965328293), Value(0.09408920626746055), Value(0.0993838502479652), Value(0.1189043310329286), Value(0.09132930345912024)]\n",
      " loss Value(2.365616336931661)\n",
      "0.0\n",
      "0.0\n",
      "0.0\n",
      "0.0\n",
      "0.0\n",
      "-12.519131120588192\n",
      "0.0\n",
      "0.0\n",
      "0.0\n",
      "0.0\n",
      "ypred[Value(0.10540485089001793), Value(0.10493240987840523), Value(0.10913935605248244), Value(0.09436852088020306), Value(0.10028961329610597), Value(0.07987774793375729), Value(0.09499742325818324), Value(0.09674383845458548), Value(0.12582427687303946), Value(0.08842196248321983)]\n",
      " loss Value(2.5272579639496664)\n",
      "0.0\n",
      "0.0\n",
      "0.0\n",
      "0.0\n",
      "0.0\n",
      "-10.214781750260634\n",
      "0.0\n",
      "0.0\n",
      "0.0\n",
      "0.0\n",
      "ypred[Value(0.10256060879468824), Value(0.0972817625365933), Value(0.10768655958783126), Value(0.08372621389746977), Value(0.10219590278897779), Value(0.09789734371705833), Value(0.09141575697889381), Value(0.10512813432746776), Value(0.13212822678062758), Value(0.07997949059039208)]\n",
      " loss Value(2.3238358624280857)\n",
      "0.0\n",
      "-9.620776839890382\n",
      "0.0\n",
      "0.0\n",
      "0.0\n",
      "0.0\n",
      "0.0\n",
      "0.0\n",
      "0.0\n",
      "0.0\n",
      "ypred[Value(0.10329780653505002), Value(0.10394171038805572), Value(0.11106983332830711), Value(0.08430238434347805), Value(0.09450975742573377), Value(0.11295709415056483), Value(0.08057698826880631), Value(0.10534254810584671), Value(0.11613388471045712), Value(0.08786799274370032)]\n",
      " loss Value(2.2639250140046583)\n",
      "0.0\n",
      "0.0\n",
      "-10.013581880197894\n",
      "0.0\n",
      "0.0\n",
      "0.0\n",
      "0.0\n",
      "0.0\n",
      "0.0\n",
      "0.0\n",
      "ypred[Value(0.09794559932882098), Value(0.11629438311138736), Value(0.09986436541528909), Value(0.07828194896887343), Value(0.09564715312055042), Value(0.12516200278243095), Value(0.07802846945574009), Value(0.11477062021431951), Value(0.1113765643120246), Value(0.08262889329056355)]\n",
      " loss Value(2.303942359510775)\n",
      "0.0\n",
      "0.0\n",
      "-6.808266533503041\n",
      "0.0\n",
      "0.0\n",
      "0.0\n",
      "0.0\n",
      "0.0\n",
      "0.0\n",
      "0.0\n",
      "ypred[Value(0.09005886591521704), Value(0.11942495975816741), Value(0.14688026608227872), Value(0.0826368216468587), Value(0.09090318979429293), Value(0.1190785719470562), Value(0.07494504106693782), Value(0.09555266180372056), Value(0.1037506465223), Value(0.07676897546317052)]\n",
      " loss Value(1.9181375405492425)\n",
      "0.0\n",
      "0.0\n",
      "0.0\n",
      "0.0\n",
      "0.0\n",
      "0.0\n",
      "0.0\n",
      "0.0\n",
      "0.0\n",
      "-14.668838442538831\n",
      "ypred[Value(0.08461218977544153), Value(0.10902548950738164), Value(0.19925588496262883), Value(0.05970466870077794), Value(0.08552123571820568), Value(0.13713569809878312), Value(0.05965669301562602), Value(0.09939811640683999), Value(0.09751830020325872), Value(0.06817172361105665)]\n",
      " loss Value(2.6857254099156855)\n",
      "0.0\n",
      "0.0\n",
      "0.0\n",
      "-12.305480404310925\n",
      "0.0\n",
      "0.0\n",
      "0.0\n",
      "0.0\n",
      "0.0\n",
      "0.0\n",
      "ypred[Value(0.10187373106167111), Value(0.10602281572371612), Value(0.1355484177886683), Value(0.08126460464312099), Value(0.08909995032305018), Value(0.10957247985728358), Value(0.07476360465344395), Value(0.10355476344973666), Value(0.09872657172708221), Value(0.09957306077222687)]\n",
      " loss Value(2.510044724471491)\n",
      "0.0\n",
      "0.0\n",
      "0.0\n",
      "0.0\n",
      "-11.245854888215293\n",
      "0.0\n",
      "0.0\n",
      "0.0\n",
      "0.0\n",
      "0.0\n",
      "ypred[Value(0.09335722436214558), Value(0.10532336308992737), Value(0.1450900180488268), Value(0.08782472021427563), Value(0.08892165246129181), Value(0.10533740042043585), Value(0.07701306003787903), Value(0.09311073097794784), Value(0.10600584805391038), Value(0.09801598233335972)]\n",
      " loss Value(2.4199996063735725)\n",
      "0.0\n",
      "0.0\n",
      "0.0\n",
      "0.0\n",
      "-9.767058129225962\n",
      "0.0\n",
      "0.0\n",
      "0.0\n",
      "0.0\n",
      "0.0\n",
      "ypred[Value(0.08328156943573109), Value(0.09080890138775453), Value(0.17062225458047328), Value(0.07652250011522306), Value(0.1023849747558787), Value(0.12350855571016268), Value(0.059496544341066146), Value(0.09255949373786274), Value(0.0946085194518153), Value(0.1062066864840324)]\n",
      " loss Value(2.2790153080423834)\n",
      "0.0\n",
      "0.0\n",
      "0.0\n",
      "0.0\n",
      "0.0\n",
      "0.0\n",
      "-15.28365982101111\n",
      "0.0\n",
      "0.0\n",
      "0.0\n",
      "ypred[Value(0.08234641790984598), Value(0.09734485865834869), Value(0.14150468787497428), Value(0.07598373148940404), Value(0.14129207399602878), Value(0.11163904176569331), Value(0.06542935472989635), Value(0.08478357990506864), Value(0.1133546282798725), Value(0.08632162539086746)]\n",
      " loss Value(2.7267842721406166)\n",
      "0.0\n",
      "0.0\n",
      "0.0\n",
      "-12.721747581059635\n",
      "0.0\n",
      "0.0\n",
      "0.0\n",
      "0.0\n",
      "0.0\n",
      "0.0\n",
      "ypred[Value(0.08045494478224269), Value(0.0911576630645284), Value(0.15386042220921442), Value(0.07860555270636072), Value(0.13064225097960588), Value(0.10645856157167889), Value(0.09299890351715744), Value(0.07706764645524845), Value(0.09489954044628922), Value(0.09385451426767384)]\n",
      " loss Value(2.543312936923132)\n",
      "0.0\n",
      "0.0\n",
      "0.0\n",
      "0.0\n",
      "-7.489636909597168\n",
      "0.0\n",
      "0.0\n",
      "0.0\n",
      "0.0\n",
      "0.0\n",
      "ypred[Value(0.07254943201953384), Value(0.07901826132176187), Value(0.1639176710113068), Value(0.10158793275097777), Value(0.13351782096654205), Value(0.09925309670204017), Value(0.08180220119651117), Value(0.0717072574511898), Value(0.10364329553633253), Value(0.09300303104380407)]\n",
      " loss Value(2.013520319664799)\n",
      "0.0\n",
      "0.0\n",
      "0.0\n",
      "0.0\n",
      "0.0\n",
      "0.0\n",
      "-12.61895509075635\n",
      "0.0\n",
      "0.0\n",
      "0.0\n",
      "ypred[Value(0.06514431471548791), Value(0.07901200697786458), Value(0.14559977207920746), Value(0.11080238831969264), Value(0.18781292147003242), Value(0.09234419287163649), Value(0.07924586408366895), Value(0.05843874523903856), Value(0.09417242550622251), Value(0.08742736873714844)]\n",
      " loss Value(2.535200055805288)\n",
      "0.0\n",
      "0.0\n",
      "0.0\n",
      "0.0\n",
      "0.0\n",
      "0.0\n",
      "0.0\n",
      "0.0\n",
      "0.0\n",
      "-11.40094347338017\n",
      "ypred[Value(0.08099276171107668), Value(0.07858070109260619), Value(0.13033795686182661), Value(0.11013448288274948), Value(0.13761987520485616), Value(0.0888388613908017), Value(0.11878414116446465), Value(0.06792839835967263), Value(0.09907078220686116), Value(0.08771203912508466)]\n",
      " loss Value(2.4336961127987835)\n",
      "0.0\n",
      "0.0\n",
      "-7.069264533603177\n",
      "0.0\n",
      "0.0\n",
      "0.0\n",
      "0.0\n",
      "0.0\n",
      "0.0\n",
      "0.0\n",
      "ypred[Value(0.06300657884176178), Value(0.06875372983142361), Value(0.14145743100241628), Value(0.09139166938415248), Value(0.16725484742895586), Value(0.0820460992438603), Value(0.11886716043935146), Value(0.05712381240071402), Value(0.09012756454258421), Value(0.11997110688477998)]\n",
      " loss Value(1.955756448132891)\n",
      "0.0\n",
      "-15.682244436363746\n",
      "0.0\n",
      "0.0\n",
      "0.0\n",
      "0.0\n",
      "0.0\n",
      "0.0\n",
      "0.0\n",
      "0.0\n",
      "ypred[Value(0.05898926783550119), Value(0.06376638267933227), Value(0.2145062350147466), Value(0.08087334841707719), Value(0.15109445959048956), Value(0.09139196204665133), Value(0.1020454374679573), Value(0.05136623001194002), Value(0.08244940180486117), Value(0.10351727513144342)]\n",
      " loss Value(2.752529144752917)\n",
      "0.0\n",
      "-9.108799765584335\n",
      "0.0\n",
      "0.0\n",
      "0.0\n",
      "0.0\n",
      "0.0\n",
      "0.0\n",
      "0.0\n",
      "0.0\n",
      "ypred[Value(0.04792752897021199), Value(0.10978394802115286), Value(0.2311584457890584), Value(0.0855471714201647), Value(0.14301042761635308), Value(0.07136520028518611), Value(0.10350295676923135), Value(0.03839926545176199), Value(0.0660898216415522), Value(0.10321523403532742)]\n",
      " loss Value(2.2092409534796036)\n",
      "0.0\n",
      "0.0\n",
      "-3.5919744874986\n",
      "0.0\n",
      "0.0\n",
      "0.0\n",
      "0.0\n",
      "0.0\n",
      "0.0\n",
      "0.0\n",
      "ypred[Value(0.018677263653790292), Value(0.2811436615314078), Value(0.27839841387525716), Value(0.0481585100546433), Value(0.12103192046888303), Value(0.04074131515263337), Value(0.0885965728915977), Value(0.012922053059282384), Value(0.03784350104416985), Value(0.07248678826833507)]\n",
      " loss Value(1.278702047825253)\n",
      "0.0\n",
      "0.0\n",
      "0.0\n",
      "0.0\n",
      "-11.291186975599745\n",
      "0.0\n",
      "0.0\n",
      "0.0\n",
      "0.0\n",
      "0.0\n",
      "ypred[Value(0.010809130637801322), Value(0.10912570871168562), Value(0.6357769409401923), Value(0.020706930470688657), Value(0.08856464800033867), Value(0.024979388849844287), Value(0.0385625881501942), Value(0.008884807786049121), Value(0.020108369903330345), Value(0.04248148654987545)]\n",
      " loss Value(2.42402250776367)\n",
      "0.0\n",
      "0.0\n",
      "0.0\n",
      "0.0\n",
      "-2.402121044226042\n",
      "0.0\n",
      "0.0\n",
      "0.0\n",
      "0.0\n",
      "0.0\n",
      "ypred[Value(0.0037163795884959487), Value(0.04736020275177269), Value(0.46173217165939634), Value(0.007641836911522903), Value(0.41629875497060875), Value(0.011841976016681067), Value(0.019009989994048928), Value(0.003313908660168403), Value(0.008270918960076472), Value(0.020813860487228514)]\n",
      " loss Value(0.8763521154880365)\n",
      "0.0\n",
      "-21.044691900893262\n",
      "0.0\n",
      "0.0\n",
      "0.0\n",
      "0.0\n",
      "0.0\n",
      "0.0\n",
      "0.0\n",
      "0.0\n",
      "ypred[Value(0.003913488041487379), Value(0.04751792065711136), Value(0.23599971640741535), Value(0.0077178707216111805), Value(0.6544479827316518), Value(0.009063953719699343), Value(0.014901158561961479), Value(0.002926004176865222), Value(0.008134631975960831), Value(0.015377273006236116)]\n",
      " loss Value(3.0466483621007927)\n"
     ]
    }
   ],
   "source": [
    "for image, label in random_batch(train_images, train_labels, 150):\n",
    "    model.zero_grad()\n",
    "            \n",
    "    ypred = model(image)\n",
    "    ypred = nn.softmax(ypred)\n",
    "    loss = eval.CrossEntropy(ypred, label)\n",
    "    before = loss.data\n",
    "    \n",
    "    loss.backward()\n",
    "    model.step(.05)\n",
    "    for y in ypred:\n",
    "        print(y.grad)\n",
    "    print(f'ypred{ypred}\\n loss {loss}')\n",
    "    "
   ]
  }
 ],
 "metadata": {
  "kernelspec": {
   "display_name": "Python 3 (ipykernel)",
   "language": "python",
   "name": "python3"
  },
  "language_info": {
   "codemirror_mode": {
    "name": "ipython",
    "version": 3
   },
   "file_extension": ".py",
   "mimetype": "text/x-python",
   "name": "python",
   "nbconvert_exporter": "python",
   "pygments_lexer": "ipython3",
   "version": "3.11.2"
  }
 },
 "nbformat": 4,
 "nbformat_minor": 5
}

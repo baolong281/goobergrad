{
 "cells": [
  {
   "cell_type": "code",
   "execution_count": 1,
   "metadata": {},
   "outputs": [],
   "source": [
    "import math\n",
    "import matplotlib.pyplot as plt\n",
    "import numpy as np\n",
    "%matplotlib inline"
   ]
  },
  {
   "cell_type": "code",
   "execution_count": 5,
   "metadata": {},
   "outputs": [
    {
     "name": "stdout",
     "output_type": "stream",
     "text": [
      "{Value(2.0), Value(5.0)}\n",
      "{Value(5.0), Value(7.0)}\n"
     ]
    }
   ],
   "source": [
    "class Value:\n",
    "    \n",
    "\tdef __init__ (self, data, _children=(), _op=\"\"):\n",
    "\t\tself._prev = set(_children)\n",
    "\t\tself.data = data\n",
    "\t\n",
    "\tdef __repr__(self):\n",
    "\t\treturn f\"Value({self.data})\"\n",
    "\n",
    "\tdef __add__(self, other):\n",
    "\t\tresult = Value(self.data + other.data, (self, other), op=\"+\")\n",
    "\t\treturn result\n",
    "\t\n",
    "\tdef __mul__(self, other):\n",
    "\t\tresult = Value(self.data * other.data, (self, other), op=\"*\")\n",
    "\t\treturn result\n",
    "\n",
    "\n",
    "a = Value(2.0);\n",
    "b = Value(5.0)\n",
    "c = a + b\n",
    "d = c * b"
   ]
  }
 ],
 "metadata": {
  "kernelspec": {
   "display_name": "Python 3",
   "language": "python",
   "name": "python3"
  },
  "language_info": {
   "codemirror_mode": {
    "name": "ipython",
    "version": 3
   },
   "file_extension": ".py",
   "mimetype": "text/x-python",
   "name": "python",
   "nbconvert_exporter": "python",
   "pygments_lexer": "ipython3",
   "version": "3.11.0"
  },
  "orig_nbformat": 4,
  "vscode": {
   "interpreter": {
    "hash": "1a1af0ee75eeea9e2e1ee996c87e7a2b11a0bebd85af04bb136d915cefc0abce"
   }
  }
 },
 "nbformat": 4,
 "nbformat_minor": 2
}
